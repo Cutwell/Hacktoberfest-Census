{
  "nbformat": 4,
  "nbformat_minor": 0,
  "metadata": {
    "colab": {
      "name": "演習1.ipynb",
      "provenance": [],
      "authorship_tag": "ABX9TyN4KRKRy1eEocw8q22OlTKD",
      "include_colab_link": true
    },
    "kernelspec": {
      "name": "python3",
      "display_name": "Python 3"
    },
    "language_info": {
      "name": "python"
    }
  },
  "cells": [
    {
      "cell_type": "markdown",
      "metadata": {
        "id": "view-in-github",
        "colab_type": "text"
      },
      "source": [
        "<a href=\"https://colab.research.google.com/github/tako0218/Hacktoberfest-Census/blob/master/%E6%BC%94%E7%BF%921.ipynb\" target=\"_parent\"><img src=\"https://colab.research.google.com/assets/colab-badge.svg\" alt=\"Open In Colab\"/></a>"
      ]
    },
    {
      "cell_type": "code",
      "execution_count": null,
      "metadata": {
        "id": "0jmQuZc92p_e"
      },
      "outputs": [],
      "source": [
        "pip install qiskit==0.16.1"
      ]
    },
    {
      "cell_type": "code",
      "source": [
        "from qiskit import QuantumCircuit, QuantumRegister\n",
        "q = QuantumRegister(1, 'q') # 1量子ビット\n",
        "cir1 = QuantumCircuit(q) # 量子回路生成\n",
        "cir1.x(q[0]) # NOTゲート\n",
        "cir1.draw(output='mpl')"
      ],
      "metadata": {
        "colab": {
          "base_uri": "https://localhost:8080/",
          "height": 95
        },
        "id": "DoTpijyX4zjn",
        "outputId": "e3fada24-8b88-46e2-d855-fae625d3ec05"
      },
      "execution_count": 5,
      "outputs": [
        {
          "output_type": "execute_result",
          "data": {
            "text/plain": [
              "<Figure size 173.376x84.28 with 1 Axes>"
            ],
            "image/png": "[encoded data removed]"
          },
          "metadata": {},
          "execution_count": 5
        }
      ]
    },
    {
      "cell_type": "code",
      "source": [
        "from qiskit import ClassicalRegister\n",
        "c = ClassicalRegister(1, 'c')\n",
        "meas1 = QuantumCircuit(q, c)\n",
        "meas1.barrier(q)\n",
        "meas1.measure(q,c)\n",
        "qc1 = cir1+meas1\n",
        "qc1.draw(output='mpl')"
      ],
      "metadata": {
        "colab": {
          "base_uri": "https://localhost:8080/",
          "height": 140
        },
        "id": "XIUGtLoX7IpE",
        "outputId": "ddfa65e1-031f-4817-d232-553aea664604"
      },
      "execution_count": 6,
      "outputs": [
        {
          "output_type": "execute_result",
          "data": {
            "text/plain": [
              "<Figure size 293.776x144.48 with 1 Axes>"
            ],
            "image/png": "[encoded data removed]"
          },
          "metadata": {},
          "execution_count": 6
        }
      ]
    },
    {
      "cell_type": "code",
      "source": [
        "from qiskit.visualization import plot_histogram\n",
        "from qiskit import BasicAer, execute\n",
        "backend_sim = BasicAer.get_backend('qasm_simulator')\n",
        "job_sim = execute(qc1, backend_sim, shots=1024)\n",
        "result_sim = job_sim.result()\n",
        "counts = result_sim.get_counts(qc1)\n",
        "print(counts)\n",
        "plot_histogram(counts)"
      ],
      "metadata": {
        "colab": {
          "base_uri": "https://localhost:8080/",
          "height": 526
        },
        "id": "DSNTpl3Z7PKK",
        "outputId": "7309726c-80f5-4705-9787-bcc415385b6a"
      },
      "execution_count": 10,
      "outputs": [
        {
          "output_type": "stream",
          "name": "stderr",
          "text": [
            "/usr/local/lib/python3.7/dist-packages/qiskit/validation/fields/custom.py:93: DeprecationWarning: `np.float` is a deprecated alias for the builtin `float`. To silence this warning, use `float` by itself. Doing this will not modify any behavior and is safe. If you specifically wanted the numpy scalar type, use `np.float64` here.\n",
            "Deprecated in NumPy 1.20; for more details and guidance: https://numpy.org/devdocs/release/1.20.0-notes.html#deprecations\n",
            "  if isinstance(value, numpy.float):\n",
            "/usr/local/lib/python3.7/dist-packages/qiskit/validation/fields/custom.py:93: DeprecationWarning: `np.float` is a deprecated alias for the builtin `float`. To silence this warning, use `float` by itself. Doing this will not modify any behavior and is safe. If you specifically wanted the numpy scalar type, use `np.float64` here.\n",
            "Deprecated in NumPy 1.20; for more details and guidance: https://numpy.org/devdocs/release/1.20.0-notes.html#deprecations\n",
            "  if isinstance(value, numpy.float):\n",
            "/usr/local/lib/python3.7/dist-packages/qiskit/validation/fields/custom.py:93: DeprecationWarning: `np.float` is a deprecated alias for the builtin `float`. To silence this warning, use `float` by itself. Doing this will not modify any behavior and is safe. If you specifically wanted the numpy scalar type, use `np.float64` here.\n",
            "Deprecated in NumPy 1.20; for more details and guidance: https://numpy.org/devdocs/release/1.20.0-notes.html#deprecations\n",
            "  if isinstance(value, numpy.float):\n"
          ]
        },
        {
          "output_type": "stream",
          "name": "stdout",
          "text": [
            "{'1': 1024}\n"
          ]
        },
        {
          "output_type": "execute_result",
          "data": {
            "text/plain": [
              "<Figure size 504x360 with 1 Axes>"
            ],
            "image/png": "[encoded data removed]"
          },
          "metadata": {},
          "execution_count": 10
        }
      ]
    },
    {
      "cell_type": "code",
      "source": [
        "#1\n",
        "\n",
        "from qiskit import QuantumCircuit, QuantumRegister\n",
        "q = QuantumRegister(1, 'q') # 1量子ビット\n",
        "cir1 = QuantumCircuit(q) # 量子回路生成\n",
        "cir1.h(q[0]) # アダマールゲート\n",
        "cir1.draw(output='mpl')"
      ],
      "metadata": {
        "colab": {
          "base_uri": "https://localhost:8080/",
          "height": 95
        },
        "id": "k1UwuBSS_cZ5",
        "outputId": "5cdb942b-5c2d-4830-d6d8-5039f3c1032c"
      },
      "execution_count": 11,
      "outputs": [
        {
          "output_type": "execute_result",
          "data": {
            "text/plain": [
              "<Figure size 173.376x84.28 with 1 Axes>"
            ],
            "image/png": "[encoded data removed]"
          },
          "metadata": {},
          "execution_count": 11
        }
      ]
    },
    {
      "cell_type": "code",
      "source": [
        "#2\n",
        "\n",
        "from qiskit import QuantumCircuit, QuantumRegister\n",
        "from qiskit import BasicAer,execute\n",
        "backend = BasicAer.get_backend('statevector_simulator')\n",
        "\n",
        "q = QuantumRegister(1, 'q') # 1量子ビット\n",
        "cir1 = QuantumCircuit(q) # 量子回路生成\n",
        "cir1.h(q[0]) # アダマールゲート\n",
        "\n",
        "job = execute(cir1, backend)\n",
        "result = job.result()\n",
        "outputstate = result.get_statevector(cir1, decimals=3)\n",
        "print(outputstate)"
      ],
      "metadata": {
        "colab": {
          "base_uri": "https://localhost:8080/"
        },
        "id": "mgNUM8YVBCUR",
        "outputId": "547d89d1-2955-4a2b-e081-38b84e2ff6cf"
      },
      "execution_count": 21,
      "outputs": [
        {
          "output_type": "stream",
          "name": "stdout",
          "text": [
            "[0.707+0.j 0.707+0.j]\n"
          ]
        },
        {
          "output_type": "stream",
          "name": "stderr",
          "text": [
            "/usr/local/lib/python3.7/dist-packages/qiskit/validation/fields/custom.py:93: DeprecationWarning: `np.float` is a deprecated alias for the builtin `float`. To silence this warning, use `float` by itself. Doing this will not modify any behavior and is safe. If you specifically wanted the numpy scalar type, use `np.float64` here.\n",
            "Deprecated in NumPy 1.20; for more details and guidance: https://numpy.org/devdocs/release/1.20.0-notes.html#deprecations\n",
            "  if isinstance(value, numpy.float):\n",
            "/usr/local/lib/python3.7/dist-packages/qiskit/validation/fields/custom.py:93: DeprecationWarning: `np.float` is a deprecated alias for the builtin `float`. To silence this warning, use `float` by itself. Doing this will not modify any behavior and is safe. If you specifically wanted the numpy scalar type, use `np.float64` here.\n",
            "Deprecated in NumPy 1.20; for more details and guidance: https://numpy.org/devdocs/release/1.20.0-notes.html#deprecations\n",
            "  if isinstance(value, numpy.float):\n"
          ]
        }
      ]
    },
    {
      "cell_type": "code",
      "source": [
        "#3\n",
        "\n",
        "from qiskit.visualization import plot_histogram\n",
        "from qiskit import BasicAer, execute\n",
        "from qiskit import QuantumCircuit, QuantumRegister\n",
        "from qiskit import ClassicalRegister\n",
        "backend_sim = BasicAer.get_backend('qasm_simulator')\n",
        "\n",
        "q = QuantumRegister(1, 'q') # 1量子ビット\n",
        "cir1 = QuantumCircuit(q) # 量子回路生成\n",
        "cir1.h(q[0]) # アダマールゲート\n",
        "\n",
        "c = ClassicalRegister(1, 'c')\n",
        "meas1 = QuantumCircuit(q, c)\n",
        "meas1.barrier(q)\n",
        "meas1.measure(q,c)\n",
        "qc1 = cir1+meas1\n",
        "\n",
        "job_sim = execute(qc1, backend_sim, shots=1024)\n",
        "result_sim = job_sim.result()\n",
        "counts = result_sim.get_counts(qc1)\n",
        "print(counts)\n",
        "plot_histogram(counts)"
      ],
      "metadata": {
        "colab": {
          "base_uri": "https://localhost:8080/",
          "height": 475
        },
        "id": "-ujsGQwU_4Tx",
        "outputId": "0e7ce214-0687-43ab-ac7a-42d280c5116c"
      },
      "execution_count": 23,
      "outputs": [
        {
          "output_type": "stream",
          "name": "stdout",
          "text": [
            "{'1': 510, '0': 514}\n"
          ]
        },
        {
          "output_type": "stream",
          "name": "stderr",
          "text": [
            "/usr/local/lib/python3.7/dist-packages/qiskit/validation/fields/custom.py:93: DeprecationWarning: `np.float` is a deprecated alias for the builtin `float`. To silence this warning, use `float` by itself. Doing this will not modify any behavior and is safe. If you specifically wanted the numpy scalar type, use `np.float64` here.\n",
            "Deprecated in NumPy 1.20; for more details and guidance: https://numpy.org/devdocs/release/1.20.0-notes.html#deprecations\n",
            "  if isinstance(value, numpy.float):\n",
            "/usr/local/lib/python3.7/dist-packages/qiskit/validation/fields/custom.py:93: DeprecationWarning: `np.float` is a deprecated alias for the builtin `float`. To silence this warning, use `float` by itself. Doing this will not modify any behavior and is safe. If you specifically wanted the numpy scalar type, use `np.float64` here.\n",
            "Deprecated in NumPy 1.20; for more details and guidance: https://numpy.org/devdocs/release/1.20.0-notes.html#deprecations\n",
            "  if isinstance(value, numpy.float):\n"
          ]
        },
        {
          "output_type": "execute_result",
          "data": {
            "text/plain": [
              "<Figure size 504x360 with 1 Axes>"
            ],
            "image/png": "[encoded data removed]"
          },
          "metadata": {},
          "execution_count": 23
        }
      ]
    },
    {
      "cell_type": "code",
      "source": [
        "#4\n",
        "\n",
        "from qiskit import QuantumCircuit, QuantumRegister\n",
        "from qiskit import BasicAer,execute\n",
        "backend = BasicAer.get_backend('statevector_simulator')\n",
        "\n",
        "q = QuantumRegister(2, 'q') # 2量子ビット\n",
        "cir1 = QuantumCircuit(q) # 量子回路生成\n",
        "cir1.h(q[0]) # アダマールゲート\n",
        "cir1.cx(q[0], q[1])\n",
        "cir1.draw(output='mpl')\n",
        "\n",
        "job = execute(cir1, backend)\n",
        "result = job.result()\n",
        "outputstate = result.get_statevector(cir1, decimals=3)\n",
        "print(outputstate)"
      ],
      "metadata": {
        "colab": {
          "base_uri": "https://localhost:8080/"
        },
        "id": "f6JxAAv-Bnji",
        "outputId": "4e2fc259-0db4-4b39-c7b9-0286f0905bb9"
      },
      "execution_count": 29,
      "outputs": [
        {
          "output_type": "stream",
          "name": "stdout",
          "text": [
            "[0.707+0.j 0.   +0.j 0.   +0.j 0.707+0.j]\n"
          ]
        },
        {
          "output_type": "stream",
          "name": "stderr",
          "text": [
            "/usr/local/lib/python3.7/dist-packages/qiskit/validation/fields/custom.py:93: DeprecationWarning: `np.float` is a deprecated alias for the builtin `float`. To silence this warning, use `float` by itself. Doing this will not modify any behavior and is safe. If you specifically wanted the numpy scalar type, use `np.float64` here.\n",
            "Deprecated in NumPy 1.20; for more details and guidance: https://numpy.org/devdocs/release/1.20.0-notes.html#deprecations\n",
            "  if isinstance(value, numpy.float):\n",
            "/usr/local/lib/python3.7/dist-packages/qiskit/validation/fields/custom.py:93: DeprecationWarning: `np.float` is a deprecated alias for the builtin `float`. To silence this warning, use `float` by itself. Doing this will not modify any behavior and is safe. If you specifically wanted the numpy scalar type, use `np.float64` here.\n",
            "Deprecated in NumPy 1.20; for more details and guidance: https://numpy.org/devdocs/release/1.20.0-notes.html#deprecations\n",
            "  if isinstance(value, numpy.float):\n"
          ]
        }
      ]
    },
    {
      "cell_type": "code",
      "source": [
        "#5\n",
        "\n",
        "from qiskit.visualization import plot_histogram\n",
        "from qiskit import BasicAer, execute\n",
        "from qiskit import QuantumCircuit, QuantumRegister\n",
        "from qiskit import ClassicalRegister\n",
        "backend_sim = BasicAer.get_backend('qasm_simulator')\n",
        "\n",
        "q = QuantumRegister(2, 'q') # 1量子ビット\n",
        "cir1 = QuantumCircuit(q) # 量子回路生成\n",
        "cir1.h(q[0]) # アダマールゲート\n",
        "cir1.cx(q[0], q[1])\n",
        "\n",
        "c = ClassicalRegister(2, 'c')\n",
        "meas1 = QuantumCircuit(q, c)\n",
        "meas1.barrier(q)\n",
        "meas1.measure(q,c)\n",
        "qc1 = cir1+meas1\n",
        "\n",
        "job_sim = execute(qc1, backend_sim, shots=1024)\n",
        "result_sim = job_sim.result()\n",
        "counts = result_sim.get_counts(qc1)\n",
        "print(counts)\n",
        "plot_histogram(counts)"
      ],
      "metadata": {
        "colab": {
          "base_uri": "https://localhost:8080/",
          "height": 484
        },
        "id": "_1Czxp1VC79k",
        "outputId": "b96b686c-2ce3-4254-a20a-b051b36fc7ad"
      },
      "execution_count": 32,
      "outputs": [
        {
          "output_type": "stream",
          "name": "stdout",
          "text": [
            "{'11': 514, '00': 510}\n"
          ]
        },
        {
          "output_type": "stream",
          "name": "stderr",
          "text": [
            "/usr/local/lib/python3.7/dist-packages/qiskit/validation/fields/custom.py:93: DeprecationWarning: `np.float` is a deprecated alias for the builtin `float`. To silence this warning, use `float` by itself. Doing this will not modify any behavior and is safe. If you specifically wanted the numpy scalar type, use `np.float64` here.\n",
            "Deprecated in NumPy 1.20; for more details and guidance: https://numpy.org/devdocs/release/1.20.0-notes.html#deprecations\n",
            "  if isinstance(value, numpy.float):\n",
            "/usr/local/lib/python3.7/dist-packages/qiskit/validation/fields/custom.py:93: DeprecationWarning: `np.float` is a deprecated alias for the builtin `float`. To silence this warning, use `float` by itself. Doing this will not modify any behavior and is safe. If you specifically wanted the numpy scalar type, use `np.float64` here.\n",
            "Deprecated in NumPy 1.20; for more details and guidance: https://numpy.org/devdocs/release/1.20.0-notes.html#deprecations\n",
            "  if isinstance(value, numpy.float):\n"
          ]
        },
        {
          "output_type": "execute_result",
          "data": {
            "text/plain": [
              "<Figure size 504x360 with 1 Axes>"
            ],
            "image/png": "[encoded data removed]"
          },
          "metadata": {},
          "execution_count": 32
        }
      ]
    }
  ]
}